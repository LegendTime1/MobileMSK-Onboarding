{
 "cells": [
  {
   "cell_type": "code",
   "execution_count": 4,
   "metadata": {},
   "outputs": [
    {
     "name": "stdout",
     "output_type": "stream",
     "text": [
      "2\n",
      "4.67\n"
     ]
    }
   ],
   "source": [
    "import math\n",
    "\n",
    "print(math.floor(2.9))\n",
    "print(abs(-4.67))"
   ]
  },
  {
   "cell_type": "code",
   "execution_count": 2,
   "metadata": {},
   "outputs": [
    {
     "name": "stdout",
     "output_type": "stream",
     "text": [
      "You Won!\n"
     ]
    }
   ],
   "source": [
    "#Guessing Game with While Loop. \n",
    "#The user has 3 attempts to guess the secret number. If he is able to guess it in 3 or less attempts print \"You won\" otherwise print \"You failed\"\n",
    "secret_number = 8\n",
    "guess_count = 0\n",
    "guess_limit = 3\n",
    "while guess_count < guess_limit:\n",
    "    guess = int(input(\"Guess: \"))\n",
    "    guess_count +=1\n",
    "    if guess == secret_number:\n",
    "        print(\"You Won!\")\n",
    "        break\n",
    "else:\n",
    "    print(\"You failed!\") #Whatever is written in the else block is executed if guess != secret number after the condition in the while loop becomes false\n",
    " "
   ]
  },
  {
   "cell_type": "code",
   "execution_count": 3,
   "metadata": {},
   "outputs": [
    {
     "name": "stdout",
     "output_type": "stream",
     "text": [
      "\n",
      "start - Starts the car\n",
      "stop - stops the car\n",
      "quit - ends the game\n",
      "              \n",
      "Starting the car\n",
      "Already started\n",
      "Stopping the car\n",
      "Car is already stopped\n",
      "Can't understand command\n"
     ]
    }
   ],
   "source": [
    "#A car game using while loops\n",
    "command =\"\"\n",
    "start = False\n",
    "while True:\n",
    "    command = input(\"Enter a command: \").lower() #Input will be stored in lower case\n",
    "    if command == \"start\":\n",
    "        if start:\n",
    "            print(\"Already started\")\n",
    "        else:\n",
    "            print(\"Starting the car\")\n",
    "            start = True\n",
    "    elif command == \"stop\":\n",
    "        if not start:\n",
    "            print(\"Car is already stopped\")\n",
    "        else: \n",
    "            print(\"Stopping the car\")\n",
    "            start = False\n",
    "    elif command == \"help\":\n",
    "        print(\"\"\"\n",
    "start - Starts the car\n",
    "stop - stops the car\n",
    "quit - ends the game\n",
    "              \"\"\")\n",
    "    elif command == \"quit\":\n",
    "        break\n",
    "    else:\n",
    "        print(\"Can't understand command\")\n",
    "        \n",
    "    "
   ]
  },
  {
   "cell_type": "code",
   "execution_count": 5,
   "metadata": {},
   "outputs": [
    {
     "name": "stdout",
     "output_type": "stream",
     "text": [
      "Harry [Smith] says hello!!\n"
     ]
    }
   ],
   "source": [
    "#Formatted Strings\n",
    "\n",
    "#Prefx the strings with 'f' and use {} to dynamically insert value into the strings\n",
    "\n",
    "fname = \"Harry\"\n",
    "last_name = \"Smith\"\n",
    "print(f\"{fname} [{last_name}] says hello!!\")"
   ]
  },
  {
   "cell_type": "code",
   "execution_count": 8,
   "metadata": {},
   "outputs": [
    {
     "name": "stdout",
     "output_type": "stream",
     "text": [
      "One Two Two \n"
     ]
    }
   ],
   "source": [
    "#Dictionaries\n",
    "\n",
    "#Key : Value paires\n",
    "#Duplicate keys are not allowed\n",
    "\n",
    "#Converting digits to words. So 1234 is One Two Three Four\n",
    "\n",
    "number = input()\n",
    "digit_converter = {\n",
    "    \"1\" : \"One\",\n",
    "    \"2\" : \"Two\",\n",
    "    \"3\" : \"Three\"\n",
    "}\n",
    "output = \"\"\n",
    "for digit in number:\n",
    "    output += digit_converter[digit] + \" \"\n",
    "\n",
    "print(output)\n"
   ]
  },
  {
   "cell_type": "code",
   "execution_count": 10,
   "metadata": {},
   "outputs": [
    {
     "name": "stdout",
     "output_type": "stream",
     "text": [
      "['Helllo', 'World', 'Three']\n"
     ]
    }
   ],
   "source": [
    "msg = input()\n",
    "words = msg.split(\" \") #Anywhere it finds a blank space it uses that to split msg into list elements.\n",
    "print(words)"
   ]
  },
  {
   "cell_type": "code",
   "execution_count": 12,
   "metadata": {},
   "outputs": [
    {
     "name": "stdout",
     "output_type": "stream",
     "text": [
      "Ronald Wesealy\n",
      "talk\n",
      "Hi, I am Ronald Wesealy\n"
     ]
    }
   ],
   "source": [
    "#Classes\n",
    "\n",
    "#An object is an instance of a class. Classes define the blueprint and object are instances of that blueprint\n",
    "\n",
    "#Creating a class Person that has - name attribute and -talk() method\n",
    "class Person:\n",
    "    def __init__(self, name):\n",
    "        self.name = name\n",
    "        \n",
    "    def talk(self):\n",
    "        print(\"talk\")\n",
    "        print(f\"Hi, I am {self.name}\")\n",
    "    \n",
    "ron = Person('Ronald Wesealy')\n",
    "print(ron.name)\n",
    "ron.talk()\n"
   ]
  },
  {
   "cell_type": "code",
   "execution_count": 14,
   "metadata": {},
   "outputs": [
    {
     "name": "stdout",
     "output_type": "stream",
     "text": [
      "walk\n",
      "Meow\n"
     ]
    }
   ],
   "source": [
    "#Inheritance\n",
    "\n",
    "class Mammal:\n",
    "    def walk(self):\n",
    "        print(\"walk\") \n",
    "\n",
    "class Dog(Mammal): #By adding (Mammal), our dog class will inherit all the methods defined in the mammal class\n",
    "    pass #If we want an empty class\n",
    "\n",
    "class Cat(Mammal):\n",
    "    def meow(self):\n",
    "        print(\"Meow\")\n",
    "\n",
    "\n",
    "\n",
    "dog1 = Dog()\n",
    "dog1.walk()\n",
    "cat1 = Cat()\n",
    "cat1.meow()"
   ]
  },
  {
   "cell_type": "code",
   "execution_count": 3,
   "metadata": {},
   "outputs": [
    {
     "name": "stdout",
     "output_type": "stream",
     "text": [
      "calc_shipping\n",
      "calc_shipping\n",
      "calc_shipping\n"
     ]
    }
   ],
   "source": [
    "#Module and Packages\n",
    "from ecommerce import shipping\n",
    "shipping.calc_shipping()\n",
    "\n",
    "#OR\n",
    "\n",
    "import ecommerce.shipping\n",
    "ecommerce.shipping.calc_shipping()\n",
    "\n",
    "#OR\n",
    "from ecommerce.shipping import calc_shipping\n",
    "calc_shipping()"
   ]
  },
  {
   "cell_type": "code",
   "execution_count": 4,
   "metadata": {},
   "outputs": [
    {
     "name": "stdout",
     "output_type": "stream",
     "text": [
      "(5, 6)\n"
     ]
    }
   ],
   "source": [
    "#Generating a random roll of two dices\n",
    "import random\n",
    "\n",
    "class Dice:\n",
    "    def roll(self):\n",
    "        first = random.randint(1,6)\n",
    "        second = random.randint(1,6)\n",
    "        return first,second #Returning a tuple. We don't necessarily have to add () around first and second. So (first,second) X\n",
    "    \n",
    "dice = Dice()\n",
    "print(dice.roll())"
   ]
  }
 ],
 "metadata": {
  "kernelspec": {
   "display_name": "Python 3",
   "language": "python",
   "name": "python3"
  },
  "language_info": {
   "codemirror_mode": {
    "name": "ipython",
    "version": 3
   },
   "file_extension": ".py",
   "mimetype": "text/x-python",
   "name": "python",
   "nbconvert_exporter": "python",
   "pygments_lexer": "ipython3",
   "version": "3.10.6"
  },
  "orig_nbformat": 4
 },
 "nbformat": 4,
 "nbformat_minor": 2
}
