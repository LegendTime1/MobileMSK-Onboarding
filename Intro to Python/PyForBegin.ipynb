{
 "cells": [
  {
   "cell_type": "code",
   "execution_count": 1,
   "metadata": {},
   "outputs": [
    {
     "name": "stdout",
     "output_type": "stream",
     "text": [
      "Hello World\n"
     ]
    }
   ],
   "source": [
    "print(\"Hello World\")"
   ]
  },
  {
   "cell_type": "code",
   "execution_count": 2,
   "metadata": {},
   "outputs": [
    {
     "name": "stdout",
     "output_type": "stream",
     "text": [
      "20 19.453 Samarth True\n"
     ]
    }
   ],
   "source": [
    "#Variable Declaration\n",
    "age = 20\n",
    "price = 19.453\n",
    "first_name = \"Samarth\"\n",
    "is_online = True #True and False are Boolean Values. True meaning 1 and False means 0\n",
    "print(age, price, first_name, is_online)"
   ]
  },
  {
   "cell_type": "code",
   "execution_count": 5,
   "metadata": {},
   "outputs": [
    {
     "name": "stdout",
     "output_type": "stream",
     "text": [
      "<class 'str'>\n",
      "HI sam\n"
     ]
    }
   ],
   "source": [
    "#Receiving Input From User\n",
    "name = input(\"Enter Name: \") #Input() function reads a line of input from the user and converts the line into string and returns it.\n",
    "print(type(name)) #To see the type of a variable use type()\n",
    "print(\"HI \" + name) #concatenating two strings"
   ]
  },
  {
   "cell_type": "code",
   "execution_count": 8,
   "metadata": {},
   "outputs": [
    {
     "name": "stdout",
     "output_type": "stream",
     "text": [
      "First number entered is 5 Second number entered is 9 Sum of the two numbers is 14\n"
     ]
    }
   ],
   "source": [
    "#Type Casting\n",
    "# int() converts value to integer data type\n",
    "# float () converts to floating point\n",
    "# bool() converts value to boolean\n",
    "# str() converts to string\n",
    "\n",
    "x = int(input(\"Enter first number: \"))\n",
    "y = int(input(\"Enter second number: \"))\n",
    "print(\"First number entered is\", x, \"Second number entered is\", y, \"Sum of the two numbers is\", x+y)"
   ]
  },
  {
   "cell_type": "code",
   "execution_count": 13,
   "metadata": {},
   "outputs": [
    {
     "name": "stdout",
     "output_type": "stream",
     "text": [
      "1\n",
      "7\n",
      "Python 4 Beginners\n",
      "True\n"
     ]
    }
   ],
   "source": [
    "#Strings\n",
    "#String is an object in python and it has multiple methods like capitalise, upper, count etc.\n",
    "#Strings start with index 0  and end at len-1\n",
    "#Strings are not mutable in Python. Strings are a immutable data types which means that its value cannot be updated.\n",
    "#So, course.replace('for','4') won't change the origin string. it will just retrun a new string.\n",
    "\n",
    "course = \"Python for Beginners\" \n",
    "print(course.find('y'))\n",
    "print(course.find('for'))\n",
    "print(course.replace('for', '4'))\n",
    "\n",
    "#in keyword\n",
    "\n",
    "print('Python' in course) #It will check if 'Python' is present in course. If it is, this will print True\n"
   ]
  },
  {
   "cell_type": "code",
   "execution_count": 16,
   "metadata": {},
   "outputs": [
    {
     "name": "stdout",
     "output_type": "stream",
     "text": [
      "3.3333333333333335\n",
      "3\n",
      "1\n",
      "1000\n"
     ]
    }
   ],
   "source": [
    "#Arithmetic Operations\n",
    "\n",
    "print(10/3) # Gives floating point\n",
    "print(10 // 3) # Gives integer\n",
    "print(10 % 3) # Gives remainder\n",
    "print(10 ** 3) #Exponent, 10^3\n",
    "\n",
    "#Comparison Operators \n",
    "\n",
    "# >, <, <=, >= , ==, !=\n",
    "\n",
    "#Logical Operators\n",
    "\n",
    "# and : True if both operands are true\n",
    "# or : True if only one is True\n",
    "# not: Inverts True to false and vice versa"
   ]
  },
  {
   "cell_type": "code",
   "execution_count": 17,
   "metadata": {},
   "outputs": [
    {
     "name": "stdout",
     "output_type": "stream",
     "text": [
      "Its a hot day\n",
      "Drink water\n",
      "End of IF\n"
     ]
    }
   ],
   "source": [
    "# If statements\n",
    "\n",
    "temp = 35\n",
    "\n",
    "if temp > 30:\n",
    "    print(\"Its a hot day\")\n",
    "    print(\"Drink water\")\n",
    "elif temp > 20: #temp (20,30]\n",
    "    print(\"Its a pleasant day\")\n",
    "elif temp > 10: #temp (10,20]\n",
    "    print(\"Its a bit cold\")\n",
    "else:\n",
    "    print(\"Its cold\")\n",
    "\n",
    "print(\"End of IF\") #This statement is executed regardless of whether if statements are true or not\n",
    "    "
   ]
  },
  {
   "cell_type": "code",
   "execution_count": 1,
   "metadata": {},
   "outputs": [
    {
     "name": "stdout",
     "output_type": "stream",
     "text": [
      "\n",
      "*\n",
      "**\n",
      "***\n",
      "****\n",
      "*****\n",
      "******\n",
      "*******\n",
      "********\n",
      "*********\n",
      "**********\n"
     ]
    }
   ],
   "source": [
    "#While Loops\n",
    "i = 0\n",
    "while i<=10:\n",
    "    print(i * \"*\")\n",
    "    i += 1\n"
   ]
  },
  {
   "cell_type": "code",
   "execution_count": 6,
   "metadata": {},
   "outputs": [
    {
     "name": "stdout",
     "output_type": "stream",
     "text": [
      "['apple', 'banana', 'cherry']\n",
      "['orange', 'banana']\n",
      "['orange', 'banana', 'cherry']\n",
      "['orange', 'banana', 100, 'cherry', 4]\n",
      "False\n",
      "5\n"
     ]
    }
   ],
   "source": [
    "#Lists\n",
    "\n",
    "#Lists are used to store multiple items in a single variable.\n",
    "#List items are ordered, changeable, and allow duplicate values. Lists items are indexed and start with the index 0\n",
    "list1 = [\"apple\", \"banana\", \"cherry\"]\n",
    "\n",
    "print(list1)\n",
    "\n",
    "list1[0] = \"orange\"\n",
    "print(list1[0:2]) # Prints all elements upto index 2 but excludes element at index 2\n",
    "\n",
    "print(list1)\n",
    "list1.append(4)\n",
    "list1.insert(2, 100)\n",
    "print(list1)\n",
    "\n",
    "#To see if a given item is in the list use the in keyword\n",
    "\n",
    "print(1 in list1) #Should give false\n",
    "\n",
    "print(len(list1)) #To find out length of a list\n"
   ]
  },
  {
   "cell_type": "code",
   "execution_count": 1,
   "metadata": {},
   "outputs": [
    {
     "name": "stdout",
     "output_type": "stream",
     "text": [
      "[2, 5, 6, 7, 9, 1]\n"
     ]
    }
   ],
   "source": [
    "#Removing Duplicates in a list\n",
    "numbers = [2,2,5,5,5,6,7,9,1]\n",
    "unique = []\n",
    "\n",
    "#our list should be [2,5,6,7,9,1]\n",
    "\n",
    "for x in numbers:\n",
    "    if x not in unique:\n",
    "        unique.append(x)\n",
    "print(unique)\n",
    "        "
   ]
  },
  {
   "cell_type": "code",
   "execution_count": 7,
   "metadata": {},
   "outputs": [
    {
     "name": "stdout",
     "output_type": "stream",
     "text": [
      "1\n",
      "2\n",
      "3\n",
      "4\n",
      "5\n",
      "6\n",
      "1\n",
      "2\n",
      "3\n",
      "4\n",
      "5\n",
      "6\n"
     ]
    }
   ],
   "source": [
    "# For Loop\n",
    "\n",
    "numbers = [1,2,3,4,5,6]\n",
    "for x in numbers:\n",
    "    print(x)\n",
    "\n",
    "#OR\n",
    "\n",
    "i = 0\n",
    "while i<len(numbers):\n",
    "    print(numbers[i])\n",
    "    i+=1"
   ]
  },
  {
   "cell_type": "code",
   "execution_count": 9,
   "metadata": {},
   "outputs": [
    {
     "name": "stdout",
     "output_type": "stream",
     "text": [
      "<class 'tuple'>\n"
     ]
    }
   ],
   "source": [
    "#Tuples\n",
    "\n",
    "#A tuple is a collection which is ordered and unchangeable. Tuple items are ordered, unchangeable, and allow duplicate values.\n",
    "\n",
    "tuple1 = (1,2,3,4)\n",
    "print(type(tuple1))"
   ]
  },
  {
   "cell_type": "code",
   "execution_count": 4,
   "metadata": {},
   "outputs": [
    {
     "name": "stdout",
     "output_type": "stream",
     "text": [
      "Start\n",
      "Hi Sam\n",
      "Welcome Aboard\n",
      "1\n",
      "End\n",
      "9\n",
      "None\n"
     ]
    }
   ],
   "source": [
    "#Functions\n",
    "\n",
    "#Here name is a local variable that only exists in the function code block\n",
    "def greet_user(name):\n",
    "    print(f\"Hi {name}\")\n",
    "    print(\"Welcome Aboard\")\n",
    "    \n",
    "print(\"Start\")\n",
    "name = 1\n",
    "greet_user(\"Sam\")\n",
    "print(name)\n",
    "print(\"End\")\n",
    "\n",
    "#By default all function in python Return the value None\n",
    "def square(num):\n",
    "    print(num * num)\n",
    "    \n",
    "print(square(3))\n",
    "    "
   ]
  },
  {
   "cell_type": "code",
   "execution_count": 12,
   "metadata": {},
   "outputs": [
    {
     "name": "stdout",
     "output_type": "stream",
     "text": [
      "0\n",
      "Age cannot be 0\n"
     ]
    }
   ],
   "source": [
    "#Try and Except\n",
    "#We use try and except to handle errors in our code which may arise due to invalid user input\n",
    "\n",
    "try:\n",
    "    age = int(input(\"Age: \"))\n",
    "    print(age)\n",
    "    income = 10000\n",
    "    risk = income / age\n",
    "except ValueError: #this except block is used to handle errors when user doesn't enter an integer input\n",
    "    print('Invalid value entered')\n",
    "except ZeroDivisionError:\n",
    "    print('Age cannot be 0')\n"
   ]
  },
  {
   "cell_type": "code",
   "execution_count": null,
   "metadata": {},
   "outputs": [],
   "source": []
  }
 ],
 "metadata": {
  "kernelspec": {
   "display_name": "Python 3",
   "language": "python",
   "name": "python3"
  },
  "language_info": {
   "codemirror_mode": {
    "name": "ipython",
    "version": 3
   },
   "file_extension": ".py",
   "mimetype": "text/x-python",
   "name": "python",
   "nbconvert_exporter": "python",
   "pygments_lexer": "ipython3",
   "version": "3.10.6"
  },
  "orig_nbformat": 4
 },
 "nbformat": 4,
 "nbformat_minor": 2
}
